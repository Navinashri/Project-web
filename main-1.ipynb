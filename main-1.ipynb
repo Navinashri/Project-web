{
 "cells": [
  {
   "cell_type": "code",
   "execution_count": 1,
   "metadata": {},
   "outputs": [
    {
     "name": "stderr",
     "output_type": "stream",
     "text": [
      "C:\\Users\\prasa\\AppData\\Local\\Temp\\ipykernel_7220\\2830903261.py:7: DeprecationWarning: executable_path has been deprecated, please pass in a Service object\n",
      "  driver = webdriver.Chrome(executable_path = r\"F:\\python\\hari\\chromedriver.exe\")\n"
     ]
    }
   ],
   "source": [
    "from selenium import webdriver\n",
    "from selenium.webdriver.common.by import By\n",
    "from selenium.webdriver.support.ui import WebDriverWait\n",
    "from selenium.webdriver.support import expected_conditions as EC\n",
    "\n",
    "driver = webdriver.Chrome(executable_path = r\"F:\\python\\hari\\chromedriver.exe\")\n",
    "\n",
    "# URL of the website\n",
    "url = \"www.example.com\"\n",
    "\n",
    "# opening link in the browser\n",
    "driver.get(url)\n",
    "\n",
    "# maximizing browser\n",
    "driver.maximize_window()\n",
    "\n",
    "# setting driver wait time\n",
    "wait = WebDriverWait(driver, 15)"
   ]
  },
  {
   "cell_type": "code",
   "execution_count": 14,
   "metadata": {},
   "outputs": [],
   "source": [
    "house_detial_container = driver.find_element(By.XPATH, '//*[@id=\"app\"]/div/div[3]')\n",
    "\n",
    "house_detial_container_tag_list = list(house_detial_container.find_elements(By.CLASS_NAME, \"swiperHouse\"))[1::]"
   ]
  },
  {
   "cell_type": "code",
   "execution_count": 19,
   "metadata": {},
   "outputs": [],
   "source": [
    "house_detial_link_list = []\n",
    "for i in house_detial_container_tag_list:\n",
    "    house_detials_list = i.find_elements(By.CLASS_NAME, \"house_image\")\n",
    "    for house_detial in house_detials_list:\n",
    "        house_detial_link_list.append(house_detial.find_element(By.TAG_NAME, \"a\").get_attribute('href'))\n",
    "#print(*house_detial_link_list, sep='\\n')"
   ]
  },
  {
   "cell_type": "code",
   "execution_count": 91,
   "metadata": {},
   "outputs": [],
   "source": [
    "def fetch_detials():\n",
    "    address_xpath = '//*[@id=\"app\"]/div/div[2]/div[2]/div[1]/div[1]/div[1]/div/div/h1'\n",
    "    price_xpath = '//*[@id=\"app\"]/div/div[2]/div[2]/div[1]/div[1]/div[1]/div/div/div[1]'\n",
    "\n",
    "    address_detial_dict = {\"address\": None, \"city_name\": None, \"house_type\": None}\n",
    "    price_detial_dict = {\"price_listing.price_grey\": None, \"price_sold\": None, \"list_status_and_list_days\": None}\n",
    "\n",
    "    wait.until(EC.presence_of_element_located((By.XPATH, address_xpath)))\n",
    "    for key in address_detial_dict:\n",
    "        try:\n",
    "            address_tag = driver.find_element(By.XPATH, address_xpath)\n",
    "            address_detial_dict[key] = address_tag.find_element(By.CLASS_NAME, key).text\n",
    "        except:\n",
    "            address_detial_dict[key] = \"detial not found\"\n",
    "\n",
    "    wait.until(EC.presence_of_element_located((By.XPATH, price_xpath)))\n",
    "    for key in price_detial_dict:\n",
    "        try:\n",
    "            price_tag = driver.find_element(By.XPATH, price_xpath)\n",
    "            val = price_tag.find_element(By.CLASS_NAME, key).text\n",
    "            if key == \"list_status_and_list_days\":\n",
    "                if val.startswith(\"Sold\"):\n",
    "                    price_detial_dict[key] = val.replace(\"Sold in \", \"\").replace(\"Sold \", \"\")\n",
    "                else:\n",
    "                    price_detial_dict[key] = \"not sold\"\n",
    "            else:\n",
    "                price_detial_dict[key] = val.replace(\"Listed for: \", \"\").replace(\"Sold for: \", \"\")\n",
    "        except:\n",
    "            price_tag = driver.find_element(By.XPATH, price_xpath)\n",
    "            if key == \"price_listing.price_grey\":\n",
    "                price_detial_dict[key] = price_tag.find_element(By.CLASS_NAME, \"price_listing\").text.replace(\"Listed for: \", \"\")\n",
    "            else:\n",
    "                price_detial_dict[key] = \"not sold\"\n",
    "\n",
    "    return address_detial_dict, price_detial_dict"
   ]
  },
  {
   "cell_type": "code",
   "execution_count": null,
   "metadata": {},
   "outputs": [],
   "source": [
    "house_detial_dict = dict()\n",
    "for idx, link in enumerate(house_detial_link_list):\n",
    "    driver.get(link)\n",
    "    detials = fetch_detials()\n",
    "    house_detial_dict[idx] = {\"address\": detials[0], \"price\": detials[1]}\n",
    "\n",
    "print(house_detial_dict)"
   ]
  },
  {
   "cell_type": "code",
   "execution_count": 93,
   "metadata": {},
   "outputs": [],
   "source": [
    "import json \n",
    "\n",
    "with open(\"house_detials.json\", \"w\") as outfile:\n",
    "    json.dump(house_detial_dict, outfile, indent=4)"
   ]
  },
  {
   "cell_type": "code",
   "execution_count": 97,
   "metadata": {},
   "outputs": [],
   "source": [
    "import csv\n",
    "\n",
    "def jsonTOcsv(json_array):\n",
    "    csv = []\n",
    "    for _, v in json_array.items():\n",
    "        address = v[\"address\"].values()\n",
    "        price = v[\"price\"].values()\n",
    "        csv.append(tuple(address) + ('',) + tuple(price))\n",
    "\n",
    "    return csv\n",
    "\n",
    "main_header = ('', 'address', '', '', '', 'price', '')\n",
    "address_header = (\"address\", \"city_name\", \"house_type\")\n",
    "price_header = (\"price_listing.price_grey\", \"price_sold\", \"sold date\")\n",
    "sub_header = address_header + ('',) + price_header\n",
    "\n",
    "# writing to csv file \n",
    "with open(\"house_detials.csv\", 'w') as csvfile: \n",
    "    # creating a csv writer object\n",
    "    csvwrite = csv.writer(csvfile)\n",
    "        \n",
    "    # writing the fields \n",
    "    csvwrite.writerow(main_header)\n",
    "    csvwrite.writerow(sub_header)\n",
    "        \n",
    "    # writing the data rows \n",
    "    csvwrite.writerows(jsonTOcsv(house_detial_dict))"
   ]
  }
 ],
 "metadata": {
  "kernelspec": {
   "display_name": "Python 3",
   "language": "python",
   "name": "python3"
  },
  "language_info": {
   "codemirror_mode": {
    "name": "ipython",
    "version": 3
   },
   "file_extension": ".py",
   "mimetype": "text/x-python",
   "name": "python",
   "nbconvert_exporter": "python",
   "pygments_lexer": "ipython3",
   "version": "3.10.3"
  },
  "orig_nbformat": 4
 },
 "nbformat": 4,
 "nbformat_minor": 2
}
